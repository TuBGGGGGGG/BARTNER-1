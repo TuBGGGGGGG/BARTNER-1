{
 "cells": [
  {
   "cell_type": "code",
   "execution_count": 1,
   "metadata": {},
   "outputs": [
    {
     "name": "stdout",
     "output_type": "stream",
     "text": [
      "2286 Still have pain in feet and legs , since Dr made me continue this Lipitor ( Crippling Medicine from Hell ) & when I refused to take it the 2 nd time , even though they continued to tell me that I could DIE if I did not take it , with my response being that I could live with agonizing pain and be disabled on this medication or possibly NOT DIE from this medication and still provide for my family by working .\n",
      " 411\n"
     ]
    }
   ],
   "source": [
    "def change_step(re_data):\n",
    "    with open(\"/disk1/wxl/Desktop/DeepKE/example/baseline/SetGNER/data/CADEC/train.txt\",\"r\") as f:\n",
    "        x= f.readlines()\n",
    "    max_num = 0\n",
    "    max_id = -1\n",
    "    for id, i in enumerate(x):\n",
    "        if id % 3 == 0:\n",
    "            if len(i.split()) > max_num:\n",
    "                max_id = id\n",
    "                max_num = len(i)\n",
    "    print(max_id, x[max_id],max_num)\n",
    "    return x\n",
    "x=change_step(None)"
   ]
  },
  {
   "cell_type": "code",
   "execution_count": 2,
   "metadata": {},
   "outputs": [
    {
     "name": "stdout",
     "output_type": "stream",
     "text": [
      "69 11 {\"sentences\": [[\"APW_ENG_20030527\", \".0232\"], [\"NEWS\", \"STORY\"], [\"20030527\"], [\"Israeli\", \"troops\", \"kill\", \"Palestinian\", \"boy\", \"and\", \"injure\", \"two\", \"other\", \"children\", \"in\", \"West\", \"Bank\", \"violence\"], [\"JERUSALEM\", \"(\", \"AP\", \")\"], [\"Israeli\", \"troops\", \"shot\", \"and\", \"killed\", \"a\", \"16-year-old\", \"Palestinian\", \"boy\", \"and\", \"critically\", \"injured\", \"two\", \"children\", \",\", \"ages\", \"7\", \"and\", \"9\", \",\", \"during\", \"conflicts\", \"in\", \"the\", \"West\", \"Bank\", \"that\", \"erupted\", \"Tuesday\", \"as\", \"Israeli\", \"and\", \"Palestinian\", \"leaders\", \"moved\", \"toward\", \"talks\", \"on\", \"a\", \"new\", \"Mideast\", \"peace\", \"plan\", \".\"], [\"The\", \"shootings\", \"_\", \"which\", \"the\", \"Israeli\", \"army\", \"said\", \"came\", \"in\", \"response\", \"to\", \"attacks\", \"by\", \"Palestinians\", \"throwing\", \"stones\", \"and\", \"molotov\", \"cocktails\", \"_\", \"came\", \"a\", \"day\", \"after\", \"Israeli\", \"Prime\", \"Minister\", \"Ariel\", \"Sharon\", \"declared\", \"that\", \"Israel\", \"'s\", \"occupation\", \"in\", \"the\", \"West\", \"Bank\", \"must\", \"end\", \",\", \"stunning\", \"both\", \"dovish\", \"opponents\", \"and\", \"hardline\", \"allies\", \".\"], [\"Sharon\", \"'s\", \"remarks\", \"and\", \"Israel\", \"'s\", \"conditional\", \"acceptance\", \"Sunday\", \"of\", \"the\", \"so-called\", \"``\", \"road\", \"map\", \"''\", \"to\", \"peace\", \"were\", \"expected\", \"to\", \"jump-start\", \"stalled\", \"Mideast\", \"peace\", \"negotiations\", \".\"], [\"A\", \"summit\", \"between\", \"Sharon\", \"and\", \"his\", \"Palestinian\", \"counterpart\", \",\", \"Mahmoud\", \"Abbas\", \",\", \"had\", \"been\", \"planned\", \"for\", \"Wednesday\", \"but\", \"was\", \"postponed\", \",\", \"according\", \"to\", \"Israeli\", \"and\", \"Palestinian\", \"officials\", \",\", \"who\", \"blamed\", \"each\", \"other\", \"for\", \"the\", \"delay\", \".\"], [\"The\", \"officials\", \"said\", \"no\", \"new\", \"date\", \"had\", \"been\", \"set\", \";\", \"Israel\", \"Radio\", \"said\", \"the\", \"meeting\", \"would\", \"take\", \"place\", \"Thursday\", \".\"], [\"A\", \"three-way\", \"summit\", \"with\", \"U.S\", \".\", \"President\", \"George\", \"W.\", \"Bush\", \"could\", \"take\", \"place\", \"as\", \"early\", \"as\", \"next\", \"week\", \",\", \"possibly\", \"in\", \"Jordan\", \".\"], [\"Israeli\", \"soldiers\", \"shot\", \"and\", \"killed\", \"a\", \"16-year-old\", \"Palestinian\", \"boy\", \"and\", \"wounded\", \"a\", \"7-year-old\", \"boy\", \"after\", \"opening\", \"fire\", \"at\", \"stone\", \"throwers\", \"in\", \"the\", \"Tulkarem\", \"refugee\", \"camp\", \"in\", \"the\", \"West\", \"Bank\", \"on\", \"Tuesday\", \",\", \"Palestinian\", \"hospital\", \"officials\", \"said\", \".\"], [\"The\", \"army\", \"said\", \"troops\", \"fired\", \",\", \"and\", \"hit\", \"a\", \"boy\", \",\", \"after\", \"a\", \"Palestinian\", \"youth\", \"threw\", \"a\", \"molotov\", \"cocktail\", \".\"], [\"In\", \"a\", \"village\", \"near\", \"the\", \"West\", \"Bank\", \"city\", \"of\", \"Nablus\", \"on\", \"Tuesday\", \",\", \"Israeli\", \"troops\", \"opened\", \"fire\", \"on\", \"youths\", \"throwing\", \"stones\", \",\", \"hitting\", \"a\", \"9-year-old\", \"Palestinian\", \"boy\", \"in\", \"the\", \"head\", \"and\", \"critically\", \"wounding\", \"him\", \",\", \"and\", \"hitting\", \"two\", \"12-year-old\", \"boys\", \"in\", \"the\", \"legs\", \",\", \"lightly\", \"wounding\", \"them\", \",\", \"Palestinian\", \"hospital\", \"officials\", \"said\", \".\"], [\"A\", \"10-year-old\", \"boy\", \"was\", \"struck\", \"in\", \"the\", \"leg\", \"by\", \"a\", \"rubber\", \"bullet\", \",\", \"but\", \"was\", \"not\", \"seriously\", \"hurt\", \",\", \"the\", \"officials\", \"said\", \".\"], [\"Military\", \"sources\", \"said\", \"troops\", \"were\", \"trying\", \"to\", \"break\", \"up\", \"stone\", \"-\", \"throwing\", \"protests\", \",\", \"but\", \"did\", \"not\", \"use\", \"live\", \"fire\", \".\"], [\"The\", \"army\", \"was\", \"not\", \"aware\", \"of\", \"any\", \"injuries\", \".\"], [\"Five\", \"Palestinian\", \"children\", \",\", \"a\", \"Palestinian\", \"woman\", \"and\", \"a\", \"police\", \"officer\", \",\", \"were\", \"injured\", \"Tuesday\", \"after\", \"accidentally\", \"detonating\", \"explosives\", \"in\", \"the\", \"West\", \"Bank\", \"city\", \"of\", \"Hebron\", \",\", \"Palestinian\", \"security\", \"officials\", \"said\", \".\"], [\"The\", \"children\", \"found\", \"the\", \"explosives\", \"in\", \"two\", \"plastic\", \"bags\", \"under\", \"a\", \"tree\", \"and\", \"accidentally\", \"detonated\", \"the\", \"first\", \"bag\", \".\"], [\"After\", \"a\", \"police\", \"officer\", \"arrived\", \",\", \"the\", \"second\", \"bag\", \"exploded\", \",\", \"seriously\", \"injuring\", \"him\", \",\", \"the\", \"officials\", \"said\", \".\"], [\"Israeli\", \"troops\", \"killed\", \"a\", \"Palestinian\", \"teenager\", \"Monday\", \"and\", \"another\", \"surrendered\", \"after\", \"infiltrating\", \"from\", \"Gaza\", \",\", \"the\", \"military\", \"said\", \".\"], [\"They\", \"were\", \"unarmed\", \"and\", \"apparently\", \"looking\", \"for\", \"work\", \".\"], [\"In\", \"a\", \"village\", \"near\", \"the\", \"West\", \"Bank\", \"town\", \"of\", \"Qalqiliya\", \",\", \"an\", \"11-year-old\", \"Palestinian\", \"boy\", \"was\", \"killed\", \"during\", \"an\", \"exchange\", \"of\", \"gunfire\", \".\"], [\"Also\", \"Monday\", \",\", \"Israeli\", \"soldiers\", \"fired\", \"on\", \"four\", \"diplomatic\", \"vehicles\", \"in\", \"the\", \"northern\", \"Gaza\", \"town\", \"of\", \"Beit\", \"Hanoun\", \",\", \"diplomats\", \"said\", \".\"], [\"There\", \"were\", \"no\", \"injuries\", \"from\", \"the\", \"incident\", \".\"], [\"Peter\", \"Lundberg\", \",\", \"an\", \"official\", \"from\", \"the\", \"Swedish\", \"Consulate\", \"in\", \"Jerusalem\", \",\", \"said\", \"that\", \"two\", \"bullets\", \"hit\", \"the\", \"windshield\", \"of\", \"the\", \"Swiss\", \"Consulate\", \"'s\", \"armored\", \"car\", \",\", \"and\", \"that\", \"small\", \"-\", \"arms\", \"fire\", \"also\", \"was\", \"directed\", \"at\", \"other\", \"cars\", \"from\", \"Sweden\", \",\", \"Denmark\", \"and\", \"the\", \"European\", \"Union\", \".\"], [\"Military\", \"sources\", \"said\", \"the\", \"Israeli\", \"army\", \"had\", \"established\", \"roadblocks\", \"at\", \"the\", \"entrance\", \"to\", \"Beit\", \"Hanoun\", \"to\", \"prevent\", \"Palestinians\", \"militants\", \"from\", \"leaving\", \"the\", \"area\", \".\"], [\"The\", \"sources\", \"said\", \"shots\", \"had\", \"been\", \"fired\", \"in\", \"the\", \"air\", \"when\", \"vehicles\", \"tried\", \"to\", \"skirt\", \"the\", \"roadblocks\", \".\"], [\"The\", \"violence\", \"erupted\", \"after\", \"Sharon\", \"endured\", \"withering\", \"criticism\", \"Monday\", \"from\", \"members\", \"of\", \"his\", \"own\", \"Likud\", \"Party\", \"over\", \"his\", \"Cabinet\", \"'s\", \"acceptance\", \"of\", \"the\", \"U.S\", \".\"], [\"-\", \"backed\", \"``\", \"road\", \"map\", \"''\", \"peace\", \"plan\", \".\"], [\"Sharon\", \"indicated\", \"a\", \"180-degree\", \"turnaround\", \"after\", \"decades\", \"of\", \"warning\", \"that\", \"an\", \"Israeli\", \"withdrawal\", \"from\", \"even\", \"small\", \"parts\", \"of\", \"the\", \"West\", \"Bank\", \"could\", \"endanger\", \"Israel\", \"'s\", \"existence\", \".\"], [\"Skeptics\", \",\", \"however\", \",\", \"wondered\", \"whether\", \"Sharon\", \"'s\", \"conversion\", \"was\", \"a\", \"shrewd\", \"effort\", \"to\", \"deflect\", \"U.S\", \".\"], [\"pressure\", \"in\", \"the\", \"hopes\", \"the\", \"road\", \"map\", \"would\", \"fail\", \"before\", \"Israel\", \"had\", \"to\", \"make\", \"tough\", \"concessions\", \".\"], [\"``\", \"To\", \"keep\", \"3.5\", \"million\", \"people\", \"under\", \"occupation\", \"is\", \"bad\", \"for\", \"us\", \"and\", \"them\", \",\", \"''\", \"Sharon\", \"said\", \"in\", \"remarks\", \"broadcast\", \"on\", \"Israel\", \"Radio\", \".\"], [\"The\", \"term\", \"``\", \"occupation\", \"''\", \"is\", \"anathema\", \"to\", \"the\", \"Israeli\", \"right\", \",\", \"which\", \"believes\", \"Israel\", \"has\", \"a\", \"legitimate\", \"claim\", \"to\", \"the\", \"West\", \"Bank\", \"and\", \"Gaza\", \"Strip\", \"for\", \"religious\", \"and\", \"security\", \"reasons\", \".\"], [\"Palestinians\", \"and\", \"their\", \"dovish\", \"Israeli\", \"allies\", \"routinely\", \"use\", \"the\", \"word\", \"``\", \"occupation\", \"''\", \"when\", \"demanding\", \"that\", \"Israel\", \"leave\", \"the\", \"West\", \"Bank\", \"and\", \"Gaza\", \"and\", \"dismantle\", \"Jewish\", \"settlements\", \".\"], [\"Palestinians\", \"claim\", \"all\", \"of\", \"the\", \"West\", \"Bank\", \"and\", \"Gaza\", \"for\", \"a\", \"state\", \".\"], [\"On\", \"Sunday\", \",\", \"Sharon\", \"'s\", \"Cabinet\", \"conditionally\", \"approved\", \"the\", \"``\", \"road\", \"map\", \",\", \"''\", \"a\", \"three-phase\", \"plan\", \"that\", \"begins\", \"with\", \"a\", \"halt\", \"to\", \"violence\", \"and\", \"envisages\", \"a\", \"Palestinian\", \"state\", \"in\", \"the\", \"West\", \"Bank\", \"and\", \"Gaza\", \"Strip\", \"in\", \"2005\", \".\"], [\"Sharon\", \"told\", \"party\", \"critics\", \"he\", \"was\", \"committed\", \"to\", \"finding\", \"a\", \"political\", \"solution\", \"to\", \"the\", \"conflict\", \",\", \"including\", \"an\", \"Israeli\", \"withdrawal\", \"from\", \"West\", \"Bank\", \"population\", \"centers\", \".\"], [\"``\", \"This\", \"ca\", \"n't\", \"continue\", \"endlessly\", \".\"], [\"Do\", \"you\", \"want\", \"to\", \"remain\", \"forever\", \"in\", \"Ramallah\", \",\", \"Jenin\", \",\", \"Nablus\", \"?\", \"''\"], [\"he\", \"asked\", \".\"], [\"Likud\", \"lawmakers\", \"charged\", \"that\", \"the\", \"road\", \"map\", \"was\", \"slanted\", \"in\", \"favor\", \"of\", \"the\", \"Palestinians\", \"and\", \"endangers\", \"Israel\", \".\"], [\"In\", \"his\", \"remarks\", \"Monday\", \",\", \"Sharon\", \"left\", \"himself\", \"an\", \"out\", \".\"], [\"``\", \"What\", \"will\", \"happen\", \"if\", \"Palestinian\", \"terror\", \"continues\", \"?\"], [\"Nothing\", \".\"], [\"Nothing\", \"will\", \"happen\", \".\"], [\"The\", \"Palestinians\", \"will\", \"get\", \"nothing\", \",\", \"''\", \"he\", \"said\", \".\"], [\"Critics\", \"have\", \"said\", \"Sharon\", \"'s\", \"long-held\", \"condition\", \"that\", \"all\", \"violence\", \"must\", \"stop\", \"before\", \"peace\", \"moves\", \"is\", \"unrealistic\", \"and\", \"guarantees\", \"failure\", \"of\", \"any\", \"peace\", \"initiative\", \",\", \"including\", \"the\", \"road\", \"map\", \",\", \"thus\", \"releasing\", \"him\", \"from\", \"the\", \"necessity\", \"of\", \"following\", \"through\", \"on\", \"his\", \"remarks\", \".\"], [\"Liberal\", \"lawmaker\", \"Yossi\", \"Sarid\", \"argued\", \"Sharon\", \"was\", \"trying\", \"to\", \"keep\", \"his\", \"intentions\", \"murky\", \"to\", \"persuade\", \"the\", \"U.S\", \".\"], [\"government\", \"that\", \"he\", \"was\", \"committed\", \"to\", \"the\", \"plan\", \",\", \"while\", \"his\", \"hawkish\", \"allies\", \"could\", \"assume\", \"he\", \"was\", \"just\", \"making\", \"a\", \"tactical\", \"move\", \"to\", \"end\", \"U.S\", \".\"], [\"pressure\", \".\"], [\"``\", \"Ariel\", \"Sharon\", \"likes\", \"to\", \"walk\", \"in\", \"the\", \"fog\", \",\", \"because\", \"then\", \"no\", \"one\", \"knows\", \"where\", \"he\", \"is\", \"headed\", \",\", \"''\", \"Sarid\", \"wrote\", \"in\", \"the\", \"Yediot\", \"Ahronot\", \"daily\", \".\"], [\"pvs-lja\"]], \"ner\": [[], [], [], [], [[19, 19, \"GPE\"], [21, 21, \"ORG\"]], [[23, 23, \"GPE\"], [53, 53, \"GPE\"], [63, 63, \"GPE\"], [30, 30, \"GPE\"], [55, 55, \"GPE\"], [24, 24, \"PER\"], [47, 48, \"LOC\"], [31, 31, \"PER\"], [36, 36, \"PER\"], [56, 56, \"PER\"]], [[83, 83, \"WEA\"], [95, 96, \"PER\"], [94, 94, \"PER\"], [92, 92, \"GPE\"], [99, 99, \"GPE\"], [72, 72, \"GPE\"], [112, 112, \"PER\"], [115, 115, \"PER\"], [104, 105, \"LOC\"], [73, 73, \"ORG\"], [81, 81, \"PER\"], [86, 86, \"WEA\"]], [[117, 117, \"PER\"], [121, 121, \"GPE\"], [140, 140, \"GPE\"]], [[147, 147, \"PER\"], [149, 149, \"PER\"], [167, 167, \"GPE\"], [151, 151, \"PER\"], [153, 154, \"PER\"], [169, 169, \"GPE\"], [150, 150, \"GPE\"], [170, 170, \"PER\"], [172, 172, \"PER\"], [175, 175, \"PER\"]], [[181, 181, \"PER\"], [190, 191, \"ORG\"]], [[204, 204, \"GPE\"], [207, 209, \"PER\"], [206, 206, \"PER\"], [221, 221, \"GPE\"]], [[241, 241, \"WEA\"], [223, 223, \"GPE\"], [230, 230, \"GPE\"], [255, 255, \"GPE\"], [224, 224, \"PER\"], [250, 251, \"LOC\"], [236, 236, \"PER\"], [242, 242, \"PER\"], [247, 247, \"FAC\"], [257, 257, \"PER\"], [256, 256, \"ORG\"], [231, 231, \"PER\"], [245, 245, \"GPE\"], [246, 246, \"PER\"]], [[273, 273, \"GPE\"], [263, 263, \"PER\"], [274, 274, \"PER\"], [278, 278, \"WEA\"], [269, 269, \"PER\"], [261, 261, \"ORG\"]], [[300, 300, \"WEA\"], [293, 293, \"GPE\"], [305, 305, \"GPE\"], [328, 328, \"GPE\"], [285, 286, \"LOC\"], [329, 329, \"ORG\"], [282, 282, \"GPE\"], [287, 287, \"GPE\"], [289, 289, \"GPE\"], [294, 294, \"PER\"], [298, 298, \"PER\"], [306, 306, \"PER\"], [313, 313, \"PER\"], [319, 319, \"PER\"], [326, 326, \"PER\"], [330, 330, \"PER\"]], [[353, 353, \"PER\"], [335, 335, \"PER\"], [344, 344, \"WEA\"]], [[365, 365, \"WEA\"], [357, 357, \"PER\"], [356, 356, \"ORG\"], [359, 359, \"PER\"]], [[378, 378, \"ORG\"]], [[387, 387, \"GPE\"], [391, 391, \"GPE\"], [413, 413, \"GPE\"], [407, 408, \"LOC\"], [409, 409, \"GPE\"], [411, 411, \"GPE\"], [404, 404, \"WEA\"], [415, 415, \"PER\"], [388, 388, \"PER\"], [392, 392, \"PER\"], [396, 396, \"PER\"], [395, 395, \"ORG\"]], [[422, 422, \"WEA\"], [419, 419, \"PER\"], [435, 435, \"WEA\"]], [[453, 453, \"PER\"], [440, 440, \"PER\"], [450, 450, \"PER\"], [439, 439, \"ORG\"], [445, 445, \"WEA\"]], [[456, 456, \"GPE\"], [460, 460, \"GPE\"], [472, 472, \"ORG\"], [457, 457, \"PER\"], [461, 461, \"PER\"], [464, 464, \"PER\"], [469, 469, \"LOC\"]], [[475, 475, \"PER\"]], [[497, 497, \"GPE\"], [489, 490, \"LOC\"], [486, 486, \"GPE\"], [491, 491, \"GPE\"], [493, 493, \"GPE\"], [498, 498, \"PER\"]], [[510, 510, \"GPE\"], [520, 520, \"LOC\"], [511, 511, \"PER\"], [516, 516, \"VEH\"], [521, 521, \"GPE\"], [523, 524, \"GPE\"], [526, 526, \"PER\"]], [], [[537, 538, \"PER\"], [541, 541, \"PER\"], [545, 545, \"ORG\"], [544, 544, \"GPE\"], [577, 577, \"GPE\"], [547, 547, \"GPE\"], [552, 552, \"WEA\"], [562, 562, \"VEH\"], [558, 558, \"GPE\"], [559, 559, \"ORG\"], [568, 568, \"WEA\"], [575, 575, \"VEH\"], [582, 583, \"GPE\"], [579, 579, \"GPE\"]], [[589, 589, \"GPE\"], [602, 602, \"GPE\"], [585, 585, \"ORG\"], [598, 599, \"GPE\"], [586, 586, \"PER\"], [593, 593, \"FAC\"], [603, 603, \"PER\"], [607, 607, \"LOC\"], [590, 590, \"ORG\"]], [[610, 610, \"PER\"], [625, 625, \"FAC\"], [620, 620, \"VEH\"]], [[631, 631, \"PER\"], [639, 639, \"PER\"], [644, 644, \"PER\"], [650, 650, \"GPE\"], [641, 642, \"ORG\"], [645, 645, \"ORG\"], [637, 637, \"PER\"]], [], [[661, 661, \"PER\"], [684, 684, \"GPE\"], [672, 672, \"GPE\"], [680, 681, \"LOC\"], [677, 677, \"LOC\"]], [[694, 694, \"PER\"], [703, 703, \"GPE\"], [688, 688, \"PER\"]], [[715, 715, \"GPE\"]], [[738, 738, \"PER\"], [733, 733, \"GPE\"], [744, 745, \"ORG\"], [735, 735, \"PER\"], [727, 727, \"PER\"]], [[756, 756, \"GPE\"], [761, 761, \"GPE\"], [768, 769, \"LOC\"], [771, 772, \"LOC\"], [757, 757, \"PER\"], [759, 759, \"PER\"]], [[783, 783, \"GPE\"], [795, 795, \"GPE\"], [779, 779, \"GPE\"], [781, 781, \"GPE\"], [798, 799, \"LOC\"], [801, 801, \"LOC\"], [784, 784, \"PER\"], [805, 805, \"GPE\"], [804, 804, \"PER\"]], [[807, 807, \"GPE\"], [812, 813, \"LOC\"], [815, 815, \"LOC\"], [818, 818, \"GPE\"], [809, 809, \"LOC\"]], [[823, 823, \"PER\"], [847, 847, \"GPE\"], [851, 852, \"LOC\"], [854, 855, \"LOC\"], [825, 825, \"ORG\"], [848, 848, \"GPE\"]], [[859, 859, \"PER\"], [863, 863, \"PER\"], [877, 877, \"GPE\"], [880, 881, \"LOC\"], [861, 861, \"ORG\"], [862, 862, \"PER\"], [883, 883, \"GPE\"]], [], [[899, 899, \"GPE\"], [901, 901, \"GPE\"], [903, 903, \"GPE\"], [893, 893, \"PER\"]], [[906, 906, \"PER\"]], [[925, 925, \"GPE\"], [922, 922, \"GPE\"], [909, 909, \"ORG\"], [910, 910, \"PER\"]], [[932, 932, \"PER\"], [934, 934, \"PER\"], [928, 928, \"PER\"]], [[943, 943, \"GPE\"]], [], [], [[960, 960, \"PER\"], [954, 954, \"GPE\"]], [[966, 966, \"PER\"], [995, 995, \"PER\"], [1003, 1003, \"PER\"], [963, 963, \"PER\"]], [[1011, 1011, \"PER\"], [1016, 1016, \"PER\"], [1022, 1022, \"GPE\"], [1008, 1009, \"PER\"], [1007, 1007, \"PER\"]], [[1026, 1026, \"PER\"], [1039, 1039, \"PER\"], [1034, 1034, \"PER\"], [1024, 1024, \"GPE\"], [1048, 1048, \"GPE\"], [1036, 1036, \"PER\"]], [], [[1053, 1054, \"PER\"], [1068, 1068, \"PER\"], [1073, 1073, \"PER\"], [1065, 1065, \"PER\"], [1079, 1079, \"ORG\"], [1077, 1078, \"ORG\"]], []], \"relations\": [[], [], [], [], [], [[24, 24, 23, 23, \"ORG-AFF\"], [31, 31, 30, 30, \"GEN-AFF\"], [24, 24, 47, 48, \"PHYS\"], [31, 31, 47, 48, \"PHYS\"], [36, 36, 47, 48, \"PHYS\"], [56, 56, 53, 53, \"ORG-AFF\"], [56, 56, 55, 55, \"ORG-AFF\"]], [[73, 73, 72, 72, \"PART-WHOLE\"], [81, 81, 83, 83, \"ART\"], [81, 81, 86, 86, \"ART\"], [94, 94, 92, 92, \"ORG-AFF\"]], [], [[170, 170, 167, 167, \"ORG-AFF\"], [170, 170, 169, 169, \"ORG-AFF\"], [151, 151, 150, 150, \"GEN-AFF\"]], [], [[207, 209, 221, 221, \"PHYS\"], [206, 206, 204, 204, \"ORG-AFF\"]], [[242, 242, 241, 241, \"ART\"], [224, 224, 223, 223, \"ORG-AFF\"], [231, 231, 230, 230, \"GEN-AFF\"], [246, 246, 247, 247, \"ART\"], [242, 242, 247, 247, \"PHYS\"], [247, 247, 250, 251, \"PART-WHOLE\"], [257, 257, 256, 256, \"ORG-AFF\"], [257, 257, 255, 255, \"GEN-AFF\"], [247, 247, 245, 245, \"PART-WHOLE\"]], [[274, 274, 273, 273, \"GEN-AFF\"], [274, 274, 278, 278, \"ART\"]], [[282, 282, 287, 287, \"PHYS\"], [287, 287, 285, 286, \"PART-WHOLE\"], [294, 294, 293, 293, \"ORG-AFF\"], [298, 298, 300, 300, \"ART\"], [306, 306, 305, 305, \"GEN-AFF\"], [330, 330, 328, 328, \"GEN-AFF\"], [330, 330, 329, 329, \"ORG-AFF\"], [294, 294, 282, 282, \"PHYS\"], [298, 298, 282, 282, \"PHYS\"], [306, 306, 282, 282, \"PHYS\"], [319, 319, 282, 282, \"PHYS\"]], [], [[357, 357, 356, 356, \"ORG-AFF\"]], [], [[388, 388, 387, 387, \"GEN-AFF\"], [392, 392, 391, 391, \"GEN-AFF\"], [409, 409, 407, 408, \"PART-WHOLE\"], [415, 415, 413, 413, \"ORG-AFF\"], [396, 396, 395, 395, \"ORG-AFF\"], [388, 388, 409, 409, \"PHYS\"], [392, 392, 409, 409, \"PHYS\"], [396, 396, 409, 409, \"PHYS\"]], [], [[440, 440, 439, 439, \"ORG-AFF\"]], [[457, 457, 456, 456, \"ORG-AFF\"], [461, 461, 460, 460, \"GEN-AFF\"]], [], [[486, 486, 491, 491, \"PHYS\"], [498, 498, 497, 497, \"GEN-AFF\"], [491, 491, 489, 490, \"PART-WHOLE\"], [498, 498, 486, 486, \"PHYS\"]], [[511, 511, 510, 510, \"ORG-AFF\"], [521, 521, 520, 520, \"PART-WHOLE\"]], [], [[541, 541, 545, 545, \"ORG-AFF\"], [545, 545, 547, 547, \"GEN-AFF\"], [545, 545, 544, 544, \"PART-WHOLE\"], [559, 559, 562, 562, \"ART\"], [559, 559, 558, 558, \"PART-WHOLE\"], [577, 577, 575, 575, \"ART\"], [579, 579, 575, 575, \"ART\"], [582, 583, 575, 575, \"ART\"]], [[590, 590, 589, 589, \"PART-WHOLE\"], [586, 586, 585, 585, \"ORG-AFF\"], [593, 593, 598, 599, \"PART-WHOLE\"], [603, 603, 602, 602, \"GEN-AFF\"], [603, 603, 607, 607, \"PHYS\"]], [], [[639, 639, 641, 642, \"ORG-AFF\"], [637, 637, 641, 642, \"ORG-AFF\"]], [], [[677, 677, 680, 681, \"PART-WHOLE\"]], [], [], [], [[757, 757, 756, 756, \"GEN-AFF\"], [771, 772, 761, 761, \"PART-WHOLE\"], [768, 769, 761, 761, \"PART-WHOLE\"]], [[784, 784, 783, 783, \"GEN-AFF\"], [804, 804, 805, 805, \"GEN-AFF\"]], [[809, 809, 807, 807, \"PART-WHOLE\"]], [[848, 848, 854, 855, \"PART-WHOLE\"], [848, 848, 851, 852, \"PART-WHOLE\"]], [[862, 862, 861, 861, \"ORG-AFF\"], [883, 883, 880, 881, \"PART-WHOLE\"]], [], [[893, 893, 899, 899, \"PHYS\"], [893, 893, 901, 901, \"PHYS\"], [893, 893, 903, 903, \"PHYS\"]], [], [[910, 910, 909, 909, \"ORG-AFF\"]], [], [], [], [], [], [], [], [], [], [], []], \"clusters\": [], \"doc_key\": \"APW_ENG_20030527.0232\"}\n",
      "\n",
      "48 9\n",
      "3 10\n"
     ]
    }
   ],
   "source": [
    "import json\n",
    "def cat_with(y):\n",
    "    z = []\n",
    "    for i in y:\n",
    "        z += i\n",
    "    return ' '.join(z)\n",
    "def get_max_reace05():\n",
    "    with open(\"/disk1/wxl/Desktop/DeepKE/example/ner/BiSPN/data/ace2005/test.json\",\"r\") as f:\n",
    "       x= f.readlines()\n",
    "    max_num = 0\n",
    "    max_id = -1\n",
    "    for id, i in enumerate(x):\n",
    "        i = json.loads(i)\n",
    "        if max([len(j) for j in i[\"relations\"]]) > max_num:\n",
    "            max_num = max(len(j) for j in i[\"relations\"])\n",
    "            max_id = id\n",
    "    print(max_id,max_num,x[max_id])\n",
    "    with open(\"/disk1/wxl/Desktop/DeepKE/example/ner/BiSPN/data/ace2005/dev.json\",\"r\") as f:\n",
    "       x= f.readlines()\n",
    "    max_num = 0\n",
    "    max_id = -1\n",
    "    for id, i in enumerate(x):\n",
    "        i = json.loads(i)\n",
    "        if max([len(j) for j in i[\"relations\"]]) > max_num:\n",
    "            max_num = max(len(j) for j in i[\"relations\"])\n",
    "            max_id = id\n",
    "    print(max_id,max_num)\n",
    "    with open(\"/disk1/wxl/Desktop/DeepKE/example/ner/BiSPN/data/ace2005/train.json\",\"r\") as f:\n",
    "       x= f.readlines()\n",
    "    max_num = 0\n",
    "    max_id = -1\n",
    "    for id, i in enumerate(x):\n",
    "        i = json.loads(i)\n",
    "        if max([len(j) for j in i[\"relations\"]]) > max_num:\n",
    "            max_num = max(len(j) for j in i[\"relations\"])\n",
    "            max_id = id\n",
    "    print(max_id,max_num)\n",
    "    # y=json.loads(x[0])[\"relations\"]\n",
    "    # z=cat_with(y)\n",
    "    # print(z)\n",
    "    # print(json.loads(x[0])[\"relations\"])\n",
    "get_max_reace05()\n"
   ]
  },
  {
   "cell_type": "code",
   "execution_count": 26,
   "metadata": {},
   "outputs": [],
   "source": [
    "import json\n",
    "import numpy as np\n",
    "def cat_with(y):\n",
    "    z = []\n",
    "    for i in y:\n",
    "        z.append(' '.join(i)) # 把sentence从list -> str\n",
    "    z2 = []\n",
    "    for i in y:\n",
    "        z2 += i\n",
    "    # 返回一个sentence的str列表和全部拼接的完整sentences（用于校验）\n",
    "    return z, z2\n",
    "def relations_change(offsets, y, rel_type_list, all_sentences, sentences):\n",
    "    z = []\n",
    "    for i, cur_sentence, offset in zip(y, sentences, offsets):\n",
    "        # [r1, r2...]\n",
    "        zz = [] # 界定不同sentence的relations的边界\n",
    "        for j in i:\n",
    "            # r1: [s1, e1, s2, e2, rel_type]\n",
    "            jj = [se_value - offset for se_value in j[:-1]] # 将原始的位置减去偏移量得到以当前sentence为起点的坐标\n",
    "\n",
    "            # 校验对应内容\n",
    "            assert cur_sentence[jj[0]:jj[1]+1] == all_sentences[j[0]:j[1]+1] and cur_sentence[jj[2]:jj[3]+1] == all_sentences[j[2]:j[3]+1],f'{cur_sentence[jj[0]:jj[1]+1]} == {all_sentences[j[0]:j[1]+1]} and {cur_sentence[jj[2]:jj[3]+1]} == {all_sentences[j[2]:j[3]+1]}'\n",
    "\n",
    "            jj = [str(jjj) for jjj in jj]\n",
    "            two_ent_se = ','.join(jj)\n",
    "            rel_type = j[-1]\n",
    "            rel_type_list.add(rel_type.lower())\n",
    "            relation_j = two_ent_se + \" \" +rel_type\n",
    "            zz.append(relation_j)\n",
    "        z.append(zz)\n",
    "\n",
    "    # 返回一个长度和sentence个数一致的relations列表：[[r1,r2],[r3],[r5,r6,r7]...]\n",
    "    return z, rel_type_list\n",
    "def change(in_file, out_file, rel_type_list):\n",
    "    out_data = []\n",
    "    with open(in_file,\"r\") as f:\n",
    "       in_data= f.readlines()\n",
    "    for idata in in_data:\n",
    "        idata = json.loads(idata)\n",
    "\n",
    "        # sentences\n",
    "        sentences = idata[\"sentences\"]\n",
    "        offsets = np.cumsum([0] + [len(sentence) for sentence in sentences[:-1]])\n",
    "        sentences, all_sentences = cat_with(sentences)\n",
    "        # relations to discontinuous entity\n",
    "        relations = idata[\"relations\"]\n",
    "        relations, rel_type_list = relations_change(offsets, relations, rel_type_list, all_sentences, idata[\"sentences\"])\n",
    "\n",
    "        # 保证sentences、relations个数一致\n",
    "        assert len(sentences) == len(relations) == len(idata[\"relations\"])\n",
    "        for r, ro in zip(relations, idata[\"relations\"]):\n",
    "            assert len(r) == len(ro)\n",
    "        \n",
    "        for sentence, relation in zip(sentences, relations):\n",
    "            out_data.append(sentence)\n",
    "            out_data.append('|'.join(relation))\n",
    "            out_data.append(\"\")\n",
    "    with open(out_file,\"w\") as f:\n",
    "       for i in out_data:\n",
    "           f.write(i+\"\\n\")\n",
    "    return rel_type_list"
   ]
  },
  {
   "cell_type": "code",
   "execution_count": null,
   "metadata": {},
   "outputs": [
    {
     "name": "stdout",
     "output_type": "stream",
     "text": [
      "set()\n",
      "{'gen-aff', 'per-soc', 'phys', 'art', 'org-aff', 'part-whole'}\n",
      "{'gen-aff', 'per-soc', 'phys', 'art', 'org-aff', 'part-whole'}\n",
      "{'gen-aff', 'per-soc', 'phys', 'art', 'org-aff', 'part-whole'}\n"
     ]
    }
   ],
   "source": [
    "rel_type_list = set()\n",
    "print(rel_type_list)\n",
    "rel_type_list = change(\"/disk1/wxl/Desktop/DeepKE/example/baseline/BARTNER/data/re_ace05/train.json\",\"/disk1/wxl/Desktop/DeepKE/example/baseline/BARTNER/data/re_ace05/train1.txt\", rel_type_list)\n",
    "print(rel_type_list)\n",
    "rel_type_list = change(\"/disk1/wxl/Desktop/DeepKE/example/baseline/BARTNER/data/re_ace05/dev.json\",\"/disk1/wxl/Desktop/DeepKE/example/baseline/BARTNER/data/re_ace05/dev1.txt\", rel_type_list)\n",
    "print(rel_type_list)\n",
    "rel_type_list = change(\"/disk1/wxl/Desktop/DeepKE/example/baseline/BARTNER/data/re_ace05/test.json\",\"/disk1/wxl/Desktop/DeepKE/example/baseline/BARTNER/data/re_ace05/test1.txt\",rel_type_list)\n",
    "print(rel_type_list)"
   ]
  }
 ],
 "metadata": {
  "kernelspec": {
   "display_name": "uie",
   "language": "python",
   "name": "python3"
  },
  "language_info": {
   "codemirror_mode": {
    "name": "ipython",
    "version": 3
   },
   "file_extension": ".py",
   "mimetype": "text/x-python",
   "name": "python",
   "nbconvert_exporter": "python",
   "pygments_lexer": "ipython3",
   "version": "3.8.0"
  }
 },
 "nbformat": 4,
 "nbformat_minor": 4
}
